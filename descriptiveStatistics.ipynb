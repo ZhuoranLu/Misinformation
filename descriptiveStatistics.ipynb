{
 "cells": [
  {
   "cell_type": "code",
   "execution_count": 1,
   "metadata": {},
   "outputs": [],
   "source": [
    "import pandas as pd\n",
    "import numpy as np\n",
    "from IPython.core.interactiveshell import InteractiveShell\n",
    "InteractiveShell.ast_node_interactivity = \"all\""
   ]
  },
  {
   "cell_type": "markdown",
   "metadata": {},
   "source": [
    "# Experiment 1"
   ]
  },
  {
   "cell_type": "code",
   "execution_count": 2,
   "metadata": {},
   "outputs": [],
   "source": [
    "expOnePredictions = pd.read_csv(\"./experimentOneIndividualLevelRes.csv\")"
   ]
  },
  {
   "cell_type": "code",
   "execution_count": 3,
   "metadata": {},
   "outputs": [
    {
     "data": {
      "text/plain": [
       "(0.5465909090909091, 0.4979660423537267)"
      ]
     },
     "execution_count": 3,
     "metadata": {},
     "output_type": "execute_result"
    },
    {
     "data": {
      "text/plain": [
       "(0.5659840728100114, 0.4957680022921788)"
      ]
     },
     "execution_count": 3,
     "metadata": {},
     "output_type": "execute_result"
    },
    {
     "data": {
      "text/plain": [
       "(0.5630681818181819, 0.4961474270495877)"
      ]
     },
     "execution_count": 3,
     "metadata": {},
     "output_type": "execute_result"
    }
   ],
   "source": [
    "expOnePredictions.query(\"treatment==0\")[\"finalCorrectness\"].mean(),expOnePredictions.query(\"treatment==0\")[\"finalCorrectness\"].std()\n",
    "expOnePredictions.query(\"treatment==1\")[\"finalCorrectness\"].mean(),expOnePredictions.query(\"treatment==1\")[\"finalCorrectness\"].std()\n",
    "expOnePredictions.query(\"treatment==2\")[\"finalCorrectness\"].mean(),expOnePredictions.query(\"treatment==2\")[\"finalCorrectness\"].std()"
   ]
  },
  {
   "cell_type": "code",
   "execution_count": 4,
   "metadata": {},
   "outputs": [
    {
     "data": {
      "text/plain": [
       "(0.5484848484848485, 0.4978322757227617)"
      ]
     },
     "execution_count": 4,
     "metadata": {},
     "output_type": "execute_result"
    },
    {
     "data": {
      "text/plain": [
       "(0.6320182094081942, 0.48243940969468485)"
      ]
     },
     "execution_count": 4,
     "metadata": {},
     "output_type": "execute_result"
    },
    {
     "data": {
      "text/plain": [
       "(0.6242424242424243, 0.4845014495387889)"
      ]
     },
     "execution_count": 4,
     "metadata": {},
     "output_type": "execute_result"
    }
   ],
   "source": [
    "expOnePredictions.query(\"mlCorrectness==True and treatment==0\")[\"finalCorrectness\"].mean(),expOnePredictions.query(\"mlCorrectness==True and treatment==0\")[\"finalCorrectness\"].std()\n",
    "expOnePredictions.query(\"mlCorrectness==True and treatment==1\")[\"finalCorrectness\"].mean(),expOnePredictions.query(\"mlCorrectness==True and treatment==1\")[\"finalCorrectness\"].std()\n",
    "expOnePredictions.query(\"mlCorrectness==True and treatment==2\")[\"finalCorrectness\"].mean(),expOnePredictions.query(\"mlCorrectness==True and treatment==2\")[\"finalCorrectness\"].std()"
   ]
  },
  {
   "cell_type": "code",
   "execution_count": 5,
   "metadata": {},
   "outputs": [
    {
     "data": {
      "text/plain": [
       "(0.5409090909090909, 0.4988908800206079)"
      ]
     },
     "execution_count": 5,
     "metadata": {},
     "output_type": "execute_result"
    },
    {
     "data": {
      "text/plain": [
       "(0.36818181818181817, 0.4828600854111334)"
      ]
     },
     "execution_count": 5,
     "metadata": {},
     "output_type": "execute_result"
    },
    {
     "data": {
      "text/plain": [
       "(0.3795454545454545, 0.48582623207246084)"
      ]
     },
     "execution_count": 5,
     "metadata": {},
     "output_type": "execute_result"
    }
   ],
   "source": [
    "expOnePredictions.query(\"mlCorrectness==False and treatment==0\")[\"finalCorrectness\"].mean(),expOnePredictions.query(\"mlCorrectness==False and treatment==0\")[\"finalCorrectness\"].std()\n",
    "expOnePredictions.query(\"mlCorrectness==False and treatment==1\")[\"finalCorrectness\"].mean(),expOnePredictions.query(\"mlCorrectness==False and treatment==1\")[\"finalCorrectness\"].std()\n",
    "expOnePredictions.query(\"mlCorrectness==False and treatment==2\")[\"finalCorrectness\"].mean(),expOnePredictions.query(\"mlCorrectness==False and treatment==2\")[\"finalCorrectness\"].std()"
   ]
  },
  {
   "cell_type": "markdown",
   "metadata": {},
   "source": [
    "# Experiment 2"
   ]
  },
  {
   "cell_type": "markdown",
   "metadata": {},
   "source": [
    "## With social influence"
   ]
  },
  {
   "cell_type": "code",
   "execution_count": null,
   "metadata": {},
   "outputs": [],
   "source": []
  },
  {
   "cell_type": "code",
   "execution_count": 6,
   "metadata": {},
   "outputs": [],
   "source": [
    "expTwoPredictionsWithInfluence = pd.read_csv(\"./experimentTwoWithInfluenceIndividualLevelRes.csv\")"
   ]
  },
  {
   "cell_type": "code",
   "execution_count": 7,
   "metadata": {},
   "outputs": [
    {
     "data": {
      "text/plain": [
       "(0.5035538545653363, 0.5001241092934507)"
      ]
     },
     "execution_count": 7,
     "metadata": {},
     "output_type": "execute_result"
    },
    {
     "data": {
      "text/plain": [
       "(0.5662583518930958, 0.4957284143497494)"
      ]
     },
     "execution_count": 7,
     "metadata": {},
     "output_type": "execute_result"
    },
    {
     "data": {
      "text/plain": [
       "(0.5530634573304157, 0.4973123411527284)"
      ]
     },
     "execution_count": 7,
     "metadata": {},
     "output_type": "execute_result"
    }
   ],
   "source": [
    "expTwoPredictionsWithInfluence.query(\"treatment==0\")[\"finalCorrectness\"].mean(),expTwoPredictionsWithInfluence.query(\"treatment==0\")[\"finalCorrectness\"].std()\n",
    "expTwoPredictionsWithInfluence.query(\"treatment==1\")[\"finalCorrectness\"].mean(),expTwoPredictionsWithInfluence.query(\"treatment==1\")[\"finalCorrectness\"].std()\n",
    "expTwoPredictionsWithInfluence.query(\"treatment==2\")[\"finalCorrectness\"].mean(),expTwoPredictionsWithInfluence.query(\"treatment==2\")[\"finalCorrectness\"].std()"
   ]
  },
  {
   "cell_type": "code",
   "execution_count": 8,
   "metadata": {},
   "outputs": [
    {
     "data": {
      "text/plain": [
       "(0.5043604651162791, 0.5001627642054879)"
      ]
     },
     "execution_count": 8,
     "metadata": {},
     "output_type": "execute_result"
    },
    {
     "data": {
      "text/plain": [
       "(0.6350851221317543, 0.4815845491022741)"
      ]
     },
     "execution_count": 8,
     "metadata": {},
     "output_type": "execute_result"
    },
    {
     "data": {
      "text/plain": [
       "(0.6244541484716157, 0.48443984863137657)"
      ]
     },
     "execution_count": 8,
     "metadata": {},
     "output_type": "execute_result"
    }
   ],
   "source": [
    "expTwoPredictionsWithInfluence.query(\"treatment==0 and mlCorrectness==True\")[\"finalCorrectness\"].mean(),expTwoPredictionsWithInfluence.query(\"treatment==0 and mlCorrectness==True\")[\"finalCorrectness\"].std()\n",
    "expTwoPredictionsWithInfluence.query(\"treatment==1 and mlCorrectness==True\")[\"finalCorrectness\"].mean(),expTwoPredictionsWithInfluence.query(\"treatment==1 and mlCorrectness==True\")[\"finalCorrectness\"].std()\n",
    "expTwoPredictionsWithInfluence.query(\"treatment==2 and mlCorrectness==True\")[\"finalCorrectness\"].mean(),expTwoPredictionsWithInfluence.query(\"treatment==2 and mlCorrectness==True\")[\"finalCorrectness\"].std()"
   ]
  },
  {
   "cell_type": "code",
   "execution_count": 9,
   "metadata": {},
   "outputs": [
    {
     "data": {
      "text/plain": [
       "(0.5011037527593819, 0.5005515721478567)"
      ]
     },
     "execution_count": 9,
     "metadata": {},
     "output_type": "execute_result"
    },
    {
     "data": {
      "text/plain": [
       "(0.35730337078651686, 0.47974459243966333)"
      ]
     },
     "execution_count": 9,
     "metadata": {},
     "output_type": "execute_result"
    },
    {
     "data": {
      "text/plain": [
       "(0.3370044052863436, 0.47320784486281686)"
      ]
     },
     "execution_count": 9,
     "metadata": {},
     "output_type": "execute_result"
    }
   ],
   "source": [
    "expTwoPredictionsWithInfluence.query(\"treatment==0 and mlCorrectness==False\")[\"finalCorrectness\"].mean(),expTwoPredictionsWithInfluence.query(\"treatment==0 and mlCorrectness==False\")[\"finalCorrectness\"].std()\n",
    "expTwoPredictionsWithInfluence.query(\"treatment==1 and mlCorrectness==False\")[\"finalCorrectness\"].mean(),expTwoPredictionsWithInfluence.query(\"treatment==1 and mlCorrectness==False\")[\"finalCorrectness\"].std()\n",
    "expTwoPredictionsWithInfluence.query(\"treatment==2 and mlCorrectness==False\")[\"finalCorrectness\"].mean(),expTwoPredictionsWithInfluence.query(\"treatment==2 and mlCorrectness==False\")[\"finalCorrectness\"].std()"
   ]
  },
  {
   "cell_type": "markdown",
   "metadata": {},
   "source": [
    "## No social influence"
   ]
  },
  {
   "cell_type": "code",
   "execution_count": 10,
   "metadata": {},
   "outputs": [],
   "source": [
    "expTwoPredictionsNoInfluence = pd.read_csv(\"./experimentTwoNoInfluenceIndividualLevelRes.csv\")"
   ]
  },
  {
   "cell_type": "code",
   "execution_count": 11,
   "metadata": {},
   "outputs": [
    {
     "data": {
      "text/plain": [
       "(0.5271966527196653, 0.4994339647009929)"
      ]
     },
     "execution_count": 11,
     "metadata": {},
     "output_type": "execute_result"
    },
    {
     "data": {
      "text/plain": [
       "(0.5795665634674922, 0.4937814640073994)"
      ]
     },
     "execution_count": 11,
     "metadata": {},
     "output_type": "execute_result"
    },
    {
     "data": {
      "text/plain": [
       "(0.6082036775106082, 0.48832428441785797)"
      ]
     },
     "execution_count": 11,
     "metadata": {},
     "output_type": "execute_result"
    }
   ],
   "source": [
    "expTwoPredictionsNoInfluence.query(\"treatment==0\")[\"finalCorrectness\"].mean(),expTwoPredictionsNoInfluence.query(\"treatment==0\")[\"finalCorrectness\"].std()\n",
    "expTwoPredictionsNoInfluence.query(\"treatment==1\")[\"finalCorrectness\"].mean(),expTwoPredictionsNoInfluence.query(\"treatment==1\")[\"finalCorrectness\"].std()\n",
    "expTwoPredictionsNoInfluence.query(\"treatment==2\")[\"finalCorrectness\"].mean(),expTwoPredictionsNoInfluence.query(\"treatment==2\")[\"finalCorrectness\"].std()"
   ]
  },
  {
   "cell_type": "code",
   "execution_count": 12,
   "metadata": {},
   "outputs": [
    {
     "data": {
      "text/plain": [
       "(0.5604982206405694, 0.49654740370746164)"
      ]
     },
     "execution_count": 12,
     "metadata": {},
     "output_type": "execute_result"
    },
    {
     "data": {
      "text/plain": [
       "(0.6751227495908347, 0.46852070998181977)"
      ]
     },
     "execution_count": 12,
     "metadata": {},
     "output_type": "execute_result"
    },
    {
     "data": {
      "text/plain": [
       "(0.7230347349177331, 0.4477038344749166)"
      ]
     },
     "execution_count": 12,
     "metadata": {},
     "output_type": "execute_result"
    }
   ],
   "source": [
    "expTwoPredictionsNoInfluence.query(\"treatment==0 and mlCorrectness==True\")[\"finalCorrectness\"].mean(),expTwoPredictionsNoInfluence.query(\"treatment==0 and mlCorrectness==True\")[\"finalCorrectness\"].std()\n",
    "expTwoPredictionsNoInfluence.query(\"treatment==1 and mlCorrectness==True\")[\"finalCorrectness\"].mean(),expTwoPredictionsNoInfluence.query(\"treatment==1 and mlCorrectness==True\")[\"finalCorrectness\"].std()\n",
    "expTwoPredictionsNoInfluence.query(\"treatment==2 and mlCorrectness==True\")[\"finalCorrectness\"].mean(),expTwoPredictionsNoInfluence.query(\"treatment==2 and mlCorrectness==True\")[\"finalCorrectness\"].std()"
   ]
  },
  {
   "cell_type": "code",
   "execution_count": 13,
   "metadata": {},
   "outputs": [
    {
     "data": {
      "text/plain": [
       "(0.4064516129032258, 0.49196487618394524)"
      ]
     },
     "execution_count": 13,
     "metadata": {},
     "output_type": "execute_result"
    },
    {
     "data": {
      "text/plain": [
       "(0.2824427480916031, 0.45076141637729994)"
      ]
     },
     "execution_count": 13,
     "metadata": {},
     "output_type": "execute_result"
    },
    {
     "data": {
      "text/plain": [
       "(0.215625, 0.411899320413059)"
      ]
     },
     "execution_count": 13,
     "metadata": {},
     "output_type": "execute_result"
    }
   ],
   "source": [
    "expTwoPredictionsNoInfluence.query(\"treatment==0 and mlCorrectness==False\")[\"finalCorrectness\"].mean(),expTwoPredictionsNoInfluence.query(\"treatment==0 and mlCorrectness==False\")[\"finalCorrectness\"].std()\n",
    "expTwoPredictionsNoInfluence.query(\"treatment==1 and mlCorrectness==False\")[\"finalCorrectness\"].mean(),expTwoPredictionsNoInfluence.query(\"treatment==1 and mlCorrectness==False\")[\"finalCorrectness\"].std()\n",
    "expTwoPredictionsNoInfluence.query(\"treatment==2 and mlCorrectness==False\")[\"finalCorrectness\"].mean(),expTwoPredictionsNoInfluence.query(\"treatment==2 and mlCorrectness==False\")[\"finalCorrectness\"].std()"
   ]
  },
  {
   "cell_type": "code",
   "execution_count": null,
   "metadata": {},
   "outputs": [],
   "source": []
  }
 ],
 "metadata": {
  "kernelspec": {
   "display_name": "Python 3",
   "language": "python",
   "name": "python3"
  },
  "language_info": {
   "codemirror_mode": {
    "name": "ipython",
    "version": 3
   },
   "file_extension": ".py",
   "mimetype": "text/x-python",
   "name": "python",
   "nbconvert_exporter": "python",
   "pygments_lexer": "ipython3",
   "version": "3.8.3"
  }
 },
 "nbformat": 4,
 "nbformat_minor": 4
}
